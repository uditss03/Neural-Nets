{
 "cells": [
  {
   "cell_type": "markdown",
   "metadata": {},
   "source": [
    "# L Layer Neural Network\n",
    "### Contains layer_dims list that represents ---\n",
    "->Number of indexes of layer_dims represent number of layers\n",
    "\n",
    "->Number stored on particular position is the number of activation units on that position\n",
    "\n",
    "\n",
    "The code is written from scratch using numpy and matplotlib.pyplot library.\n",
    "\n",
    "This code is implemented on AND gate."
   ]
  },
  {
   "cell_type": "code",
   "execution_count": 18,
   "metadata": {},
   "outputs": [],
   "source": [
    "import numpy as np\n",
    "import matplotlib.pyplot as plt"
   ]
  },
  {
   "cell_type": "code",
   "execution_count": 39,
   "metadata": {},
   "outputs": [],
   "source": [
    "X = np.array([[0,\n",
    "               0,\n",
    "               1,\n",
    "               1],[0,\n",
    "                   1,\n",
    "                   0,\n",
    "                   1]])\n",
    "Y = np.array([0,\n",
    "              1,\n",
    "              1,\n",
    "              1])\n",
    "layer_dims = [2,3,3,1]"
   ]
  },
  {
   "cell_type": "code",
   "execution_count": 40,
   "metadata": {},
   "outputs": [
    {
     "name": "stdout",
     "output_type": "stream",
     "text": [
      "Input is =  [[0 0 1 1]\n",
      " [0 1 0 1]]\n",
      "\n",
      "Output is =  [0 1 1 1]\n",
      "\n",
      "units in layer 0  =  2\n",
      "units in layer 1  =  3\n",
      "units in layer 2  =  3\n",
      "units in layer 3  =  1\n"
     ]
    }
   ],
   "source": [
    "print(\"Input is = \",X)\n",
    "print()\n",
    "print(\"Output is = \",Y)\n",
    "print()\n",
    "for i in range(0,len(layer_dims)):\n",
    "    print(\"units in layer\",i,\" = \",layer_dims[i])"
   ]
  },
  {
   "cell_type": "code",
   "execution_count": 41,
   "metadata": {},
   "outputs": [],
   "source": [
    "def sigmoid(z):\n",
    "    a  = 1/(1+np.exp(-z))\n",
    "    return a\n",
    "\n",
    "def sigmoid_backward(a):\n",
    "    da = np.dot(a,(a.T-1))\n",
    "    return da"
   ]
  },
  {
   "cell_type": "code",
   "execution_count": 42,
   "metadata": {},
   "outputs": [],
   "source": [
    "def initialize(layer_dims):\n",
    "    L = len(layer_dims)\n",
    "    para = {}\n",
    "    for l in range (1,L):\n",
    "        para['w'+str(l)] = np.random.randn(layer_dims[l],layer_dims[l-1])\n",
    "        para['b'+str(l)] = np.zeros((layer_dims[l],1))\n",
    "    return para\n",
    "\n",
    "def forward(layer_dims,para,X):\n",
    "    L = len(layer_dims)\n",
    "    units = {}\n",
    "    units['a'+str(0)] = X\n",
    "    for l in range(1,L):\n",
    "        w = para['w'+str(l)]\n",
    "        a = units['a'+str(l-1)]\n",
    "        b = para['b'+str(l)]\n",
    "        units['z'+str(l)] = np.dot(w,a) + b\n",
    "        units['a'+str(l)] = sigmoid(units['z'+str(l)])\n",
    "    return units"
   ]
  },
  {
   "cell_type": "code",
   "execution_count": 43,
   "metadata": {},
   "outputs": [
    {
     "name": "stdout",
     "output_type": "stream",
     "text": [
      "{'w1': array([[-0.10525514, -0.37656568],\n",
      "       [-1.03952806,  0.79652183],\n",
      "       [ 0.27392518, -0.07647186]]), 'b1': array([[0.],\n",
      "       [0.],\n",
      "       [0.]]), 'w2': array([[-0.42433806,  0.51633314, -1.26746281],\n",
      "       [-0.29950932,  2.37395286,  1.12063028],\n",
      "       [-1.45964664, -0.63809656, -0.75272503]]), 'b2': array([[0.],\n",
      "       [0.],\n",
      "       [0.]]), 'w3': array([[-0.9534319 ,  0.43245846,  0.06945896]]), 'b3': array([[0.]])}\n",
      "\n",
      "{'a0': array([[0, 0, 1, 1],\n",
      "       [0, 1, 0, 1]]), 'z1': array([[ 0.        , -0.37656568, -0.10525514, -0.48182083],\n",
      "       [ 0.        ,  0.79652183, -1.03952806, -0.24300623],\n",
      "       [ 0.        , -0.07647186,  0.27392518,  0.19745332]]), 'a1': array([[0.5       , 0.40695548, 0.47371048, 0.38182226],\n",
      "       [0.5       , 0.68922998, 0.26124107, 0.43954565],\n",
      "       [0.5       , 0.48089135, 0.56805628, 0.54920357]]), 'z2': array([[-0.58773386, -0.42632631, -0.78611617, -0.63116483],\n",
      "       [ 1.59753691,  2.05321392,  1.11487434,  1.54455548],\n",
      "       [-1.42523411, -1.39578543, -1.28573711, -1.25119741]]), 'a2': array([[0.35715498, 0.39500391, 0.31300321, 0.34724646],\n",
      "       [0.83167385, 0.88627196, 0.75303672, 0.82412598],\n",
      "       [0.19384235, 0.19848575, 0.21657522, 0.22249293]]), 'z3': array([[0.03260553, 0.02045309, 0.04227295, 0.04077853]]), 'a3': array([[0.50815066, 0.50511309, 0.51056666, 0.51019322]])}\n"
     ]
    }
   ],
   "source": [
    "para = initialize(layer_dims)\n",
    "\n",
    "units = forward(layer_dims,para,X)\n",
    "\n",
    "print(para)\n",
    "print()\n",
    "print(units)"
   ]
  },
  {
   "cell_type": "code",
   "execution_count": 44,
   "metadata": {},
   "outputs": [
    {
     "name": "stdout",
     "output_type": "stream",
     "text": [
      "{'w1': array([[-0.60157149,  0.69447026],\n",
      "       [ 0.34448666,  1.75959657],\n",
      "       [-0.43230653, -1.28822936]]), 'b1': array([[0.],\n",
      "       [0.],\n",
      "       [0.]]), 'w2': array([[-0.73184814, -0.96978752, -0.42820224],\n",
      "       [-0.14021585,  0.57265952, -0.11340918],\n",
      "       [ 0.36893163, -1.01062464, -0.57622175]]), 'b2': array([[0.],\n",
      "       [0.],\n",
      "       [0.]]), 'w3': array([[ 0.72724595, -1.297484  ,  2.79632956]]), 'b3': array([[0.]])}\n",
      "\n",
      "{'a0': array([[0, 0, 1, 1],\n",
      "       [0, 1, 0, 1]]), 'z1': array([[ 0.        ,  0.69447026, -0.60157149,  0.09289876],\n",
      "       [ 0.        ,  1.75959657,  0.34448666,  2.10408322],\n",
      "       [ 0.        , -1.28822936, -0.43230653, -1.72053589]]), 'a1': array([[0.5       , 0.66696062, 0.35398424, 0.523208  ],\n",
      "       [0.5       , 0.85315913, 0.58527997, 0.89129941],\n",
      "       [0.5       , 0.21615266, 0.39357569, 0.15180215]]), 'z2': array([[-1.06491895, -1.40805402, -0.99518992, -1.31228188],\n",
      "       [ 0.15951725,  0.37053755,  0.24089685,  0.41983328],\n",
      "       [-0.60895738, -0.74071263, -0.68768925, -0.79521287]]), 'a2': array([[0.25637056, 0.19654117, 0.26988819, 0.21210525],\n",
      "       [0.53979496, 0.59158886, 0.55993465, 0.60344336],\n",
      "       [0.35229707, 0.32284833, 0.33454731, 0.31105046]]), 'z3': array([[0.47120783, 0.27814701, 0.40527337, 0.24109419]]), 'a3': array([[0.61566959, 0.56909188, 0.59995398, 0.55998328]])}\n"
     ]
    }
   ],
   "source": [
    "para = initialize(layer_dims)\n",
    "\n",
    "units = forward(layer_dims,para,X)\n",
    "\n",
    "print (para)\n",
    "print()\n",
    "print(units)"
   ]
  },
  {
   "cell_type": "code",
   "execution_count": 45,
   "metadata": {},
   "outputs": [],
   "source": [
    "def cost_compute(units,X,Y,layer_dims):\n",
    "    L = len(layer_dims)\n",
    "    A = units['a'+str(L-1)]\n",
    "    loss = -(np.dot(Y,np.log(A).T) - np.dot(Y,np.log(1-A).T))\n",
    "    m = np.shape(X)[1]\n",
    "    cost = (1/m)*loss\n",
    "    return cost"
   ]
  },
  {
   "cell_type": "code",
   "execution_count": 46,
   "metadata": {},
   "outputs": [
    {
     "name": "stdout",
     "output_type": "stream",
     "text": [
      "Computed loss(error) is  [-0.23112864]\n"
     ]
    }
   ],
   "source": [
    "cost = cost_compute(units,X,Y,layer_dims)\n",
    "print(\"Computed loss(error) is \",cost)"
   ]
  },
  {
   "cell_type": "code",
   "execution_count": 47,
   "metadata": {},
   "outputs": [],
   "source": [
    "def backward(units,X,Y,para,layer_dims):\n",
    "    m = np.shape(X)[1]\n",
    "    deri = {}\n",
    "    L = len(layer_dims)\n",
    "    A = units['a'+str(L-1)]\n",
    "    deri['da'+str(L-1)] = -(np.divide(Y,A) - np.divide((1-Y),(1-A)))\n",
    "    for l in range (L-1,0,-1):\n",
    "        deri['dz'+str(l)] = np.dot(sigmoid_backward(units['a'+str(l)]),deri['da'+str(l)])\n",
    "        deri['dw'+str(l)] = (1/m)*np.dot(deri['dz'+str(l)],units['a'+str(l-1)].T)\n",
    "        deri['db'+str(l)] = (1/m)*np.sum(deri['dz'+str(l)],axis = 1,keepdims=True)\n",
    "        deri['da'+str(l-1)] = np.dot(para['w'+str(l)].T,deri['dz'+str(l)])\n",
    "        deri['db'+str(l)].reshape((layer_dims[l],1))\n",
    "    return deri"
   ]
  },
  {
   "cell_type": "code",
   "execution_count": 48,
   "metadata": {},
   "outputs": [
    {
     "name": "stdout",
     "output_type": "stream",
     "text": [
      "Derivative of units and parameters is\n",
      "{'da3': array([[ 2.60192789, -1.7571855 , -1.66679451, -1.78576761]]), 'dz3': array([[-2.51933766,  1.70140903,  1.61388722,  1.72908389]]), 'dw3': array([[0.12270745, 0.3984211 , 0.18487394]]), 'db3': array([[0.63126062]]), 'da2': array([[-1.8321781 ,  1.23734282,  1.17369294,  1.25746925],\n",
      "       [ 3.26880031, -2.20755099, -2.09399285, -2.24345869],\n",
      "       [-7.04489837,  4.75770036,  4.51296054,  4.83508839]]), 'dz2': array([[ 4.3967417 , -2.96929473, -2.81655189, -3.01759283],\n",
      "       [10.8760619 , -7.34503762, -6.96720317, -7.4645109 ],\n",
      "       [ 6.23212372, -4.20880128, -3.99229726, -4.277261  ]]), 'dw2': array([[-5.89468876e-01, -1.16824004e+00, -2.51338340e-03],\n",
      "       [-1.45814797e+00, -2.88983340e+00, -6.21726618e-03],\n",
      "       [-8.35537589e-01, -1.65591180e+00, -3.56257369e-03]]), 'db2': array([[-1.10167444],\n",
      "       [-2.72517245],\n",
      "       [-1.56155896]]), 'da1': array([[-2.4435159 ,  1.65020358,  1.56531582,  1.67704554],\n",
      "       [-4.33396268,  2.92689755,  2.77633566,  2.97450603],\n",
      "       [-6.70722507,  4.52965613,  4.29664709,  4.60333484]]), 'dz1': array([[ 14.31233864,  -9.66569212,  -9.16848139,  -9.82291282],\n",
      "       [ 19.97925146, -13.49278397, -12.79870466, -13.71225557],\n",
      "       [  8.86255391,  -5.98523552,  -5.67735034,  -6.08259045]]), 'dw1': array([[-4.74784855, -4.87215123],\n",
      "       [-6.62774006, -6.80125989],\n",
      "       [-2.9399852 , -3.01695649]]), 'db1': array([[-3.58618692],\n",
      "       [-5.00612319],\n",
      "       [-2.2206556 ]]), 'da0': array([[ -5.5586494 ,   3.75397726,   3.56086974,   3.81503888],\n",
      "       [ 33.67791367, -22.74403597, -21.57406505, -23.11398703]])}\n"
     ]
    }
   ],
   "source": [
    "deri = backward(units,X,Y,para,layer_dims)\n",
    "\n",
    "print(\"Derivative of units and parameters is\")\n",
    "print(deri)"
   ]
  },
  {
   "cell_type": "code",
   "execution_count": 51,
   "metadata": {},
   "outputs": [],
   "source": [
    "def update(layer_dims,deri,para,alpha):\n",
    "    L = len(layer_dims)\n",
    "    for l in range (1,L):\n",
    "        para['w'+str(l)] += alpha * deri['dw'+str(l)]\n",
    "        para['b'+str(l)] += alpha * deri['db'+str(l)]\n",
    "    return para"
   ]
  },
  {
   "cell_type": "code",
   "execution_count": 53,
   "metadata": {},
   "outputs": [
    {
     "data": {
      "image/png": "[encoded data removed]",
      "text/plain": [
       "<Figure size 432x288 with 1 Axes>"
      ]
     },
     "metadata": {},
     "output_type": "display_data"
    },
    {
     "name": "stdout",
     "output_type": "stream",
     "text": [
      "[array([0.14142749]), array([-0.58795555]), array([-0.69183468]), array([-0.72597518]), array([-0.7501755]), array([-0.76948975]), array([-0.78463062]), array([-0.79637476]), array([-0.80534546]), array([-0.81176444]), array([-0.81529985]), array([-0.81486681]), array([-0.8085279]), array([-0.795057]), array([-0.78164848]), array([-0.78775921]), array([-0.81479282]), array([-0.84106776]), array([-0.85621508]), array([-0.86249437])]\n"
     ]
    }
   ],
   "source": [
    "para = initialize(layer_dims)\n",
    "costs = []\n",
    "for i in range(0,2000):\n",
    "    units = forward(layer_dims,para,X)\n",
    "    cost = cost_compute(units,X,Y,layer_dims)\n",
    "    deri = backward(units,X,Y,para,layer_dims)\n",
    "    para = update(layer_dims,deri,para,alpha = 0.01)\n",
    "    if (i%100 == 0):\n",
    "            costs.append(cost)\n",
    "plt.plot(np.squeeze(costs))\n",
    "plt.ylabel('cost')\n",
    "plt.xlabel('iterations')\n",
    "plt.show()         \n",
    "print(costs)\n",
    "units = forward(layer_dims,para,X)"
   ]
  },
  {
   "cell_type": "code",
   "execution_count": null,
   "metadata": {},
   "outputs": [],
   "source": []
  },
  {
   "cell_type": "code",
   "execution_count": null,
   "metadata": {},
   "outputs": [],
   "source": []
  },
  {
   "cell_type": "code",
   "execution_count": null,
   "metadata": {
    "collapsed": true
   },
   "outputs": [],
   "source": []
  }
 ],
 "metadata": {
  "kernelspec": {
   "display_name": "Python 3",
   "language": "python",
   "name": "python3"
  },
  "language_info": {
   "codemirror_mode": {
    "name": "ipython",
    "version": 3
   },
   "file_extension": ".py",
   "mimetype": "text/x-python",
   "name": "python",
   "nbconvert_exporter": "python",
   "pygments_lexer": "ipython3",
   "version": "3.6.4"
  }
 },
 "nbformat": 4,
 "nbformat_minor": 2
}
