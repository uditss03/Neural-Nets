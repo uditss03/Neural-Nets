{
 "cells": [
  {
   "cell_type": "markdown",
   "metadata": {},
   "source": [
    "# Single Hidden Layer Neural Network\n",
    "\n",
    "### This is three layer neural network that includes:-\n",
    "  *Input layer  - 2 units\n",
    "  \n",
    "  *Hidden layer - 3 units\n",
    "  \n",
    "  *Output layer - 2 units\n",
    "\n",
    "The code is implemented on OR gate written in python using numpy and matplotlib.pyplot library\n",
    "\n"
   ]
  },
  {
   "cell_type": "code",
   "execution_count": 16,
   "metadata": {},
   "outputs": [],
   "source": [
    "import numpy as np\n",
    "import matplotlib.pyplot as plt\n"
   ]
  },
  {
   "cell_type": "code",
   "execution_count": 17,
   "metadata": {},
   "outputs": [],
   "source": [
    "X = np.array([[0,0,1,1],[0,1,0,1]])\n",
    "Y = np.array([[0,1,1,1]])"
   ]
  },
  {
   "cell_type": "code",
   "execution_count": 18,
   "metadata": {},
   "outputs": [],
   "source": [
    "def sigmoid(z):\n",
    "    a = 1/(1+np.exp(-z))\n",
    "    return a\n",
    "def sigmoid_back(a) :\n",
    "    da = np.dot(a,(1-a).T)\n",
    "    return da\n"
   ]
  },
  {
   "cell_type": "code",
   "execution_count": 19,
   "metadata": {},
   "outputs": [
    {
     "name": "stdout",
     "output_type": "stream",
     "text": [
      "Input is  [[0 0 1 1]\n",
      " [0 1 0 1]]\n",
      "output is  [[0 1 1 1]]\n"
     ]
    }
   ],
   "source": [
    "print(\"Input is \",X)\n",
    "print(\"output is \",Y)"
   ]
  },
  {
   "cell_type": "code",
   "execution_count": 20,
   "metadata": {},
   "outputs": [],
   "source": [
    "def layer_size(X,h,Y):\n",
    "    n_x = np.shape(X)[0]\n",
    "    n_h = h\n",
    "    n_y = np.shape(Y)[0]\n",
    "    return n_x,n_h,n_y\n",
    "\n",
    "def initialize(n_x,n_h,n_y):\n",
    "    w1 = np.random.randn(n_h,n_x)\n",
    "    b1 = np.zeros((n_h,1))\n",
    "    w2 = np.random.randn(n_y,n_h)\n",
    "    b2 = np.zeros((n_y,1))\n",
    "    \n",
    "   \n",
    "    parameters = {'w1': w1,\n",
    "                  'w2': w2,\n",
    "                  'b1': b1,\n",
    "                  'b2': b2\n",
    "                 }\n",
    "\n",
    "    return parameters"
   ]
  },
  {
   "cell_type": "code",
   "execution_count": 21,
   "metadata": {},
   "outputs": [
    {
     "name": "stdout",
     "output_type": "stream",
     "text": [
      "2 3 1\n",
      "{'w1': array([[ 1.68951398,  0.203795  ],\n",
      "       [ 0.46052439, -1.14225045],\n",
      "       [ 1.90375436, -0.21403889]]), 'w2': array([[ 0.81808165,  0.2790667 , -0.44547415]]), 'b1': array([[0.],\n",
      "       [0.],\n",
      "       [0.]]), 'b2': array([[0.]])}\n"
     ]
    }
   ],
   "source": [
    "n_x,n_h,n_y = layer_size(X,3,Y)\n",
    "\n",
    "print(n_x,n_h,n_y)\n",
    "\n",
    "parameters = initialize(n_x,n_h,n_y)\n",
    "\n",
    "print (parameters)"
   ]
  },
  {
   "cell_type": "code",
   "execution_count": 22,
   "metadata": {},
   "outputs": [],
   "source": [
    "def activate(parameters,X):\n",
    "\n",
    "    w1 = parameters['w1']\n",
    "    w2 = parameters['w2']\n",
    "    b1 = parameters['b1']\n",
    "    b2 = parameters['b2']\n",
    "\n",
    "\n",
    "    z1 = np.dot(w1,X)+b1\n",
    "    a1 = sigmoid(z1)\n",
    "    z2 = np.dot(w2,a1)+b2\n",
    "    a2 = sigmoid(z2)\n",
    "    units = {'z1' : z1,'a1' : a1,'z2' : z2,'a2' : a2}\n",
    "    return units"
   ]
  },
  {
   "cell_type": "code",
   "execution_count": 23,
   "metadata": {},
   "outputs": [
    {
     "name": "stdout",
     "output_type": "stream",
     "text": [
      "{'z1': array([[ 0.        ,  0.203795  ,  1.68951398,  1.89330899],\n",
      "       [ 0.        , -1.14225045,  0.46052439, -0.68172606],\n",
      "       [ 0.        , -0.21403889,  1.90375436,  1.68971547]]), 'a1': array([[0.5       , 0.55077314, 0.84416023, 0.86913236],\n",
      "       [0.5       , 0.24190742, 0.61313857, 0.33587617],\n",
      "       [0.5       , 0.44669363, 0.87031586, 0.84418674]]), 'z2': array([[0.3258371 , 0.31909524, 0.47399534, 0.42868972]]), 'a2': array([[0.58074614, 0.57910374, 0.61632896, 0.60556074]])}\n"
     ]
    }
   ],
   "source": [
    "units = activate(parameters,X)\n",
    "\n",
    "print (units)"
   ]
  },
  {
   "cell_type": "code",
   "execution_count": 24,
   "metadata": {},
   "outputs": [],
   "source": [
    "def cost_function(X,Y,units):\n",
    "    a2 = units['a2']\n",
    "    loss = -(np.dot(Y,np.log(a2).T)+np.dot((1-Y),np.log(1-a2).T))\n",
    "    m = np.shape(X)[1]\n",
    "    cost  = (1/m) * loss\n",
    "    return cost"
   ]
  },
  {
   "cell_type": "code",
   "execution_count": 25,
   "metadata": {},
   "outputs": [
    {
     "name": "stdout",
     "output_type": "stream",
     "text": [
      "[[0.60028178]]\n"
     ]
    }
   ],
   "source": [
    "cost = cost_function(X,Y,units)\n",
    "\n",
    "print(cost)"
   ]
  },
  {
   "cell_type": "code",
   "execution_count": 26,
   "metadata": {},
   "outputs": [],
   "source": [
    "def backward(units,Y,X,parameters):\n",
    "\n",
    "    m = np.shape(X)[1]\n",
    "\n",
    "    w1 = parameters['w1']\n",
    "    w2 = parameters['w2']\n",
    "    b1 = parameters['b1']\n",
    "    b2 = parameters['b2']\n",
    "\n",
    "    a2 = units['a2']\n",
    "    a1 = units['a1']\n",
    "    z1 = units['z1']\n",
    "    z2 = units['z2']\n",
    "\n",
    "    da2 =  -1 * (np.divide(Y,a2) - np.divide(1-Y,1-a2))\n",
    "    dz2 =  np.dot(sigmoid_back(a2),da2)\n",
    "    dw2 = (1/m) * np.dot(dz2,a1.T)\n",
    "    db2 =  (1/m) * np.sum(dz2,axis = 1,keepdims=True)\n",
    "    da1 = np.dot(w2.T,dz2)\n",
    "    dz1 = np.dot(sigmoid_back(a1),da1)\n",
    "    dw1 = (1/m) * np.dot(dz1,X.T)\n",
    "    db1 =  (1/m) * np.sum(dz1,axis = 1,keepdims=True)\n",
    "    \n",
    "    np.reshape(dw1, (n_h, n_x))\n",
    "    np.reshape(dw2, (n_y, n_h))\n",
    "    np.reshape(db1, (n_h, 1))\n",
    "    np.reshape(db2, (n_y, 1))\n",
    "    \n",
    "    grads = {'dw1':dw1,\n",
    "             'dw2':dw2,\n",
    "             'db1':db1,\n",
    "             'db2':db2\n",
    "            }\n",
    "\n",
    "    return grads"
   ]
  },
  {
   "cell_type": "code",
   "execution_count": 27,
   "metadata": {},
   "outputs": [
    {
     "name": "stdout",
     "output_type": "stream",
     "text": [
      "(3, 1)\n",
      "(1, 1)\n",
      "{'dw1': array([[-0.54350235, -0.56081678],\n",
      "       [-0.33656111, -0.34728298],\n",
      "       [-0.51551144, -0.53193416]]), 'dw2': array([[-0.616847  , -0.18639945, -0.57389775]]), 'db1': array([[-0.43420275],\n",
      "       [-0.26887788],\n",
      "       [-0.41184088]]), 'db2': array([[-0.62938282]])}\n"
     ]
    }
   ],
   "source": [
    "grads = backward(units,Y,X,parameters)\n",
    "print(grads['db1'].shape)\n",
    "print(grads['db2'].shape)\n",
    "print(grads)"
   ]
  },
  {
   "cell_type": "code",
   "execution_count": 28,
   "metadata": {},
   "outputs": [],
   "source": [
    "\n",
    "def update(grads,parameters,alpha):\n",
    "    dw1 = grads['dw1']\n",
    "    dw2 = grads['dw2']\n",
    "    db1 = grads['db1']\n",
    "    db2 = grads['db2']\n",
    "\n",
    "    w1 = parameters['w1']\n",
    "    w2 = parameters['w2']\n",
    "    b1 = parameters['b1']\n",
    "    b2 = parameters['b2']\n",
    "\n",
    "    w1 = w1 -  alpha * dw1\n",
    "    w2 = w2 -  alpha * dw2\n",
    "    b1 = b1 -  alpha * db1\n",
    "    b2 = b2 -  alpha * db2\n",
    "    \n",
    "\n",
    "    parameters = {'w1':w1,\n",
    "                 'w2':w2,\n",
    "                 'b1':b1,\n",
    "                 'b2':b2\n",
    "                 }\n",
    "    return parameters\n"
   ]
  },
  {
   "cell_type": "code",
   "execution_count": 29,
   "metadata": {},
   "outputs": [],
   "source": [
    "def model(X,Y,h,alpha,iteration,print_cost):\n",
    "    n_x,n_h,n_y = layer_size(X,h,Y)\n",
    "    parameters = initialize(n_x,n_h,n_y)\n",
    "    costs = []\n",
    "    for i in range (0,1500):\n",
    "        units = activate(parameters,X)\n",
    "        grads = backward(units,Y,X,parameters)\n",
    "        parameters = update(grads,parameters,0.03)\n",
    "        cost = cost_function(X,Y,units)\n",
    "        if(i%100 == 0):\n",
    "            costs.append(cost)\n",
    "    units = activate(parameters,X)\n",
    "    if print_cost:\n",
    "        print(costs)\n",
    "    plt.plot(np.squeeze(costs))\n",
    "    plt.ylabel('cost')\n",
    "    plt.xlabel('iterations')\n",
    "    plt.show()    \n",
    "    return units['a2']       "
   ]
  },
  {
   "cell_type": "code",
   "execution_count": 30,
   "metadata": {},
   "outputs": [
    {
     "name": "stdout",
     "output_type": "stream",
     "text": [
      "[array([[0.6648577]]), array([[0.53739345]]), array([[0.5070879]]), array([[0.46191209]]), array([[0.40788817]]), array([[0.36729689]]), array([[0.34295406]]), array([[0.32869695]]), array([[0.31992182]]), array([[0.31408038]]), array([[0.30981535]]), array([[0.30642337]]), array([[0.30355561]]), array([[0.30104564]]), array([[0.29881418]])]\n"
     ]
    },
    {
     "data": {
      "image/png": "[encoded data removed]",
      "text/plain": [
       "<Figure size 432x288 with 1 Axes>"
      ]
     },
     "metadata": {},
     "output_type": "display_data"
    },
    {
     "name": "stdout",
     "output_type": "stream",
     "text": [
      "[[0.69494919 0.99999854 0.99999855 0.99999858]]\n"
     ]
    }
   ],
   "source": [
    "a2 = model(X,Y,3,0.03,2000,print_cost = True)\n",
    "print (a2)"
   ]
  },
  {
   "cell_type": "code",
   "execution_count": null,
   "metadata": {},
   "outputs": [],
   "source": []
  },
  {
   "cell_type": "markdown",
   "metadata": {},
   "source": []
  },
  {
   "cell_type": "code",
   "execution_count": null,
   "metadata": {},
   "outputs": [],
   "source": []
  }
 ],
 "metadata": {
  "kernelspec": {
   "display_name": "Python 3",
   "language": "python",
   "name": "python3"
  },
  "language_info": {
   "codemirror_mode": {
    "name": "ipython",
    "version": 3
   },
   "file_extension": ".py",
   "mimetype": "text/x-python",
   "name": "python",
   "nbconvert_exporter": "python",
   "pygments_lexer": "ipython3",
   "version": "3.6.4"
  }
 },
 "nbformat": 4,
 "nbformat_minor": 2
}
